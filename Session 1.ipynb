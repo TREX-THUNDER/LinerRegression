{
 "cells": [
  {
   "cell_type": "markdown",
   "id": "5cebf750",
   "metadata": {},
   "source": [
    "Session 1 "
   ]
  },
  {
   "cell_type": "markdown",
   "id": "aa13e4a5",
   "metadata": {},
   "source": [
    "Functions"
   ]
  },
  {
   "cell_type": "code",
   "execution_count": 1,
   "id": "6440a8f9",
   "metadata": {},
   "outputs": [],
   "source": [
    "# Function performs a particular task"
   ]
  },
  {
   "cell_type": "code",
   "execution_count": 2,
   "id": "6b67431f",
   "metadata": {},
   "outputs": [],
   "source": [
    "# Identification -----> function()"
   ]
  },
  {
   "cell_type": "code",
   "execution_count": 4,
   "id": "46d4bdb9",
   "metadata": {},
   "outputs": [
    {
     "name": "stdout",
     "output_type": "stream",
     "text": [
      "hello world\n"
     ]
    }
   ],
   "source": [
    "print('hello world')"
   ]
  },
  {
   "cell_type": "markdown",
   "id": "080a2ad1",
   "metadata": {},
   "source": [
    "Variables"
   ]
  },
  {
   "cell_type": "code",
   "execution_count": 5,
   "id": "1f95d735",
   "metadata": {},
   "outputs": [],
   "source": [
    "a = 12"
   ]
  },
  {
   "cell_type": "code",
   "execution_count": 6,
   "id": "e0831137",
   "metadata": {},
   "outputs": [],
   "source": [
    "b = 45"
   ]
  },
  {
   "cell_type": "code",
   "execution_count": 7,
   "id": "1d5871ee",
   "metadata": {},
   "outputs": [],
   "source": [
    "c = a + b"
   ]
  },
  {
   "cell_type": "code",
   "execution_count": 8,
   "id": "6a6b56ac",
   "metadata": {},
   "outputs": [
    {
     "data": {
      "text/plain": [
       "57"
      ]
     },
     "execution_count": 8,
     "metadata": {},
     "output_type": "execute_result"
    }
   ],
   "source": [
    "c"
   ]
  },
  {
   "cell_type": "code",
   "execution_count": 9,
   "id": "86fa8a72",
   "metadata": {},
   "outputs": [],
   "source": [
    "# Variable will always hold some value "
   ]
  },
  {
   "cell_type": "code",
   "execution_count": 10,
   "id": "6ccfed75",
   "metadata": {},
   "outputs": [],
   "source": [
    "# Variables are case sensitive"
   ]
  },
  {
   "cell_type": "code",
   "execution_count": 11,
   "id": "7a0b7218",
   "metadata": {},
   "outputs": [],
   "source": [
    "# Only uderscore is allowed as a special character to denote a variable"
   ]
  },
  {
   "cell_type": "code",
   "execution_count": 12,
   "id": "158adc63",
   "metadata": {},
   "outputs": [],
   "source": [
    "# Number cannot be used in the beginnning to denote a variable"
   ]
  },
  {
   "cell_type": "markdown",
   "id": "3b2cd78b",
   "metadata": {},
   "source": [
    "Data Types In Python"
   ]
  },
  {
   "cell_type": "code",
   "execution_count": 13,
   "id": "5275093d",
   "metadata": {},
   "outputs": [],
   "source": [
    "# Integer ----> int ----> 2,3,4,5,6\n",
    "# Float ----> float ----> 1.2,3.4,5.6,7.8\n",
    "# boolean ----> bool ----> True, False\n",
    "# string ----> str ----> \"abc!@#123\" , \"abc!@#123\""
   ]
  },
  {
   "cell_type": "code",
   "execution_count": 15,
   "id": "c3fcd388",
   "metadata": {},
   "outputs": [
    {
     "name": "stdout",
     "output_type": "stream",
     "text": [
      "<class 'int'>\n"
     ]
    }
   ],
   "source": [
    "print(type(1))"
   ]
  },
  {
   "cell_type": "code",
   "execution_count": 16,
   "id": "58ddd023",
   "metadata": {},
   "outputs": [
    {
     "name": "stdout",
     "output_type": "stream",
     "text": [
      "<class 'float'>\n"
     ]
    }
   ],
   "source": [
    "print(type(1.2))"
   ]
  },
  {
   "cell_type": "code",
   "execution_count": 18,
   "id": "36ae3e24",
   "metadata": {},
   "outputs": [
    {
     "name": "stdout",
     "output_type": "stream",
     "text": [
      "<class 'str'>\n"
     ]
    }
   ],
   "source": [
    "print(type('abc'))"
   ]
  },
  {
   "cell_type": "code",
   "execution_count": 19,
   "id": "52cfb910",
   "metadata": {},
   "outputs": [
    {
     "name": "stdout",
     "output_type": "stream",
     "text": [
      "<class 'bool'>\n"
     ]
    }
   ],
   "source": [
    "print(type(True))"
   ]
  },
  {
   "cell_type": "markdown",
   "id": "f3c3e94d",
   "metadata": {},
   "source": [
    "Sequential Data Type"
   ]
  },
  {
   "cell_type": "code",
   "execution_count": 20,
   "id": "ae2ac440",
   "metadata": {},
   "outputs": [],
   "source": [
    "# tuple ----> ()\n",
    "# list ----> []\n",
    "# set ----> {}\n",
    "# dict ----> {}"
   ]
  },
  {
   "cell_type": "code",
   "execution_count": 21,
   "id": "4517c471",
   "metadata": {},
   "outputs": [],
   "source": [
    "mylist = [23,76,\"hello\",98.6,[45,56,12],True]"
   ]
  },
  {
   "cell_type": "code",
   "execution_count": 22,
   "id": "a4997c5a",
   "metadata": {},
   "outputs": [
    {
     "name": "stdout",
     "output_type": "stream",
     "text": [
      "[23, 76, 'hello', 98.6, [45, 56, 12], True]\n"
     ]
    }
   ],
   "source": [
    "print(mylist)"
   ]
  },
  {
   "cell_type": "code",
   "execution_count": 23,
   "id": "874cf125",
   "metadata": {},
   "outputs": [
    {
     "name": "stdout",
     "output_type": "stream",
     "text": [
      "<class 'list'>\n"
     ]
    }
   ],
   "source": [
    "print(type(mylist))"
   ]
  },
  {
   "cell_type": "code",
   "execution_count": 63,
   "id": "be733a7a",
   "metadata": {},
   "outputs": [
    {
     "data": {
      "text/plain": [
       "6"
      ]
     },
     "execution_count": 63,
     "metadata": {},
     "output_type": "execute_result"
    }
   ],
   "source": [
    "len(mylist) # States the total element in the list "
   ]
  },
  {
   "cell_type": "code",
   "execution_count": 26,
   "id": "77c64635",
   "metadata": {},
   "outputs": [
    {
     "data": {
      "text/plain": [
       "23"
      ]
     },
     "execution_count": 26,
     "metadata": {},
     "output_type": "execute_result"
    }
   ],
   "source": [
    "mylist[0]"
   ]
  },
  {
   "cell_type": "code",
   "execution_count": 32,
   "id": "f01f2089",
   "metadata": {},
   "outputs": [
    {
     "data": {
      "text/plain": [
       "True"
      ]
     },
     "execution_count": 32,
     "metadata": {},
     "output_type": "execute_result"
    }
   ],
   "source": [
    "mylist[-1]"
   ]
  },
  {
   "cell_type": "code",
   "execution_count": null,
   "id": "cdd57112",
   "metadata": {},
   "outputs": [],
   "source": [
    "# Multiple Dimensional Indexing"
   ]
  },
  {
   "cell_type": "code",
   "execution_count": 28,
   "id": "c8f3b227",
   "metadata": {},
   "outputs": [
    {
     "data": {
      "text/plain": [
       "56"
      ]
     },
     "execution_count": 28,
     "metadata": {},
     "output_type": "execute_result"
    }
   ],
   "source": [
    "mylist[4][1]"
   ]
  },
  {
   "cell_type": "code",
   "execution_count": 29,
   "id": "e9d9442e",
   "metadata": {},
   "outputs": [],
   "source": [
    "# Slicing\n",
    "# Rule = start : stop + 1"
   ]
  },
  {
   "cell_type": "code",
   "execution_count": 30,
   "id": "729d9017",
   "metadata": {},
   "outputs": [
    {
     "name": "stdout",
     "output_type": "stream",
     "text": [
      "[23, 76, 'hello']\n"
     ]
    }
   ],
   "source": [
    "print(mylist[0:3])"
   ]
  },
  {
   "cell_type": "code",
   "execution_count": null,
   "id": "7f579009",
   "metadata": {},
   "outputs": [],
   "source": [
    "# Multiple Dimensional Slicing"
   ]
  },
  {
   "cell_type": "code",
   "execution_count": 31,
   "id": "cb6edbaf",
   "metadata": {},
   "outputs": [
    {
     "name": "stdout",
     "output_type": "stream",
     "text": [
      "[23, 76, 'hello'] [45, 56]\n"
     ]
    }
   ],
   "source": [
    "print(mylist[0:3],mylist[-2][0:2])"
   ]
  },
  {
   "cell_type": "code",
   "execution_count": 33,
   "id": "1194b894",
   "metadata": {},
   "outputs": [],
   "source": [
    "d = [3,3,3,6,6,6,7,7,7,8,8,8]"
   ]
  },
  {
   "cell_type": "code",
   "execution_count": 39,
   "id": "a18628ac",
   "metadata": {},
   "outputs": [],
   "source": [
    "e = set{d}"
   ]
  },
  {
   "cell_type": "code",
   "execution_count": 44,
   "id": "773a36db",
   "metadata": {},
   "outputs": [],
   "source": [
    "f = list(e)"
   ]
  },
  {
   "cell_type": "code",
   "execution_count": 46,
   "id": "77e53dd3",
   "metadata": {},
   "outputs": [
    {
     "data": {
      "text/plain": [
       "[888, 777, 666, 333]"
      ]
     },
     "execution_count": 46,
     "metadata": {},
     "output_type": "execute_result"
    }
   ],
   "source": [
    "f"
   ]
  },
  {
   "cell_type": "code",
   "execution_count": 48,
   "id": "0f05001a",
   "metadata": {},
   "outputs": [],
   "source": [
    "# Dictionary are in the form of key and value\n",
    "\n",
    "mydict = {\n",
    "    'name' : ['faiz','shubh'],\n",
    "    'age' : [25,25],\n",
    "    'place' : ['mumbai','mumbai']\n",
    "}"
   ]
  },
  {
   "cell_type": "code",
   "execution_count": 49,
   "id": "ec3c7342",
   "metadata": {},
   "outputs": [
    {
     "data": {
      "text/plain": [
       "{'name': ['faiz', 'shubh'], 'age': [25, 25], 'place': ['mumbai', 'mumbai']}"
      ]
     },
     "execution_count": 49,
     "metadata": {},
     "output_type": "execute_result"
    }
   ],
   "source": [
    "mydict"
   ]
  },
  {
   "cell_type": "code",
   "execution_count": null,
   "id": "21016d97",
   "metadata": {},
   "outputs": [],
   "source": [
    "# Multi Dimensional"
   ]
  },
  {
   "cell_type": "code",
   "execution_count": 62,
   "id": "4473198b",
   "metadata": {},
   "outputs": [
    {
     "data": {
      "text/plain": [
       "('shubh', 25, 'mumbai')"
      ]
     },
     "execution_count": 62,
     "metadata": {},
     "output_type": "execute_result"
    }
   ],
   "source": [
    "mydict['name'][1],mydict['age'][1],mydict['place'][1]"
   ]
  },
  {
   "cell_type": "markdown",
   "id": "412d66f8",
   "metadata": {},
   "source": [
    "Append And Insert"
   ]
  },
  {
   "cell_type": "code",
   "execution_count": 69,
   "id": "c61f680a",
   "metadata": {},
   "outputs": [],
   "source": [
    "n = [23,76,'hello',98.6,'world',56,12,67,99,True]"
   ]
  },
  {
   "cell_type": "code",
   "execution_count": 70,
   "id": "81086ec1",
   "metadata": {},
   "outputs": [],
   "source": [
    "n.append(\"55\")"
   ]
  },
  {
   "cell_type": "code",
   "execution_count": 71,
   "id": "2ce21190",
   "metadata": {},
   "outputs": [
    {
     "data": {
      "text/plain": [
       "[23, 76, 'hello', 98.6, 'world', 56, 12, 67, 99, True, '55']"
      ]
     },
     "execution_count": 71,
     "metadata": {},
     "output_type": "execute_result"
    }
   ],
   "source": [
    "n"
   ]
  },
  {
   "cell_type": "code",
   "execution_count": 72,
   "id": "825fbfe6",
   "metadata": {},
   "outputs": [],
   "source": [
    "n.insert(0,'hello') #(first place is  for position and second is for value)"
   ]
  },
  {
   "cell_type": "code",
   "execution_count": 73,
   "id": "7aaa7b39",
   "metadata": {},
   "outputs": [
    {
     "data": {
      "text/plain": [
       "['hello', 23, 76, 'hello', 98.6, 'world', 56, 12, 67, 99, True, '55']"
      ]
     },
     "execution_count": 73,
     "metadata": {},
     "output_type": "execute_result"
    }
   ],
   "source": [
    "n"
   ]
  },
  {
   "cell_type": "code",
   "execution_count": 74,
   "id": "bc1efe5c",
   "metadata": {},
   "outputs": [],
   "source": [
    "# Statements in python "
   ]
  },
  {
   "cell_type": "code",
   "execution_count": 75,
   "id": "d6621e92",
   "metadata": {},
   "outputs": [],
   "source": [
    "# if,elif,else"
   ]
  },
  {
   "cell_type": "code",
   "execution_count": 76,
   "id": "ba77c6a5",
   "metadata": {},
   "outputs": [],
   "source": [
    "var = 12"
   ]
  },
  {
   "cell_type": "code",
   "execution_count": 77,
   "id": "d6ac94c6",
   "metadata": {},
   "outputs": [
    {
     "name": "stdout",
     "output_type": "stream",
     "text": [
      "zzzz\n"
     ]
    }
   ],
   "source": [
    "if var > 13:\n",
    "    print('hello')\n",
    "elif var == 12:\n",
    "    print('zzzz')\n",
    "else:\n",
    "    print('bye')"
   ]
  },
  {
   "cell_type": "code",
   "execution_count": 78,
   "id": "0dce77bd",
   "metadata": {},
   "outputs": [],
   "source": [
    "# Input Function"
   ]
  },
  {
   "cell_type": "code",
   "execution_count": 79,
   "id": "72c84cbc",
   "metadata": {},
   "outputs": [
    {
     "name": "stdout",
     "output_type": "stream",
     "text": [
      "Enter 1st Numbar, 55\n",
      "Enter 2nd Number45\n"
     ]
    }
   ],
   "source": [
    "a = int(input('Enter 1st Numbar, '))\n",
    "b = int(input('Enter 2nd Number'))"
   ]
  },
  {
   "cell_type": "code",
   "execution_count": 80,
   "id": "9994cfea",
   "metadata": {},
   "outputs": [],
   "source": [
    "c = a + b"
   ]
  },
  {
   "cell_type": "code",
   "execution_count": 81,
   "id": "4286aab3",
   "metadata": {},
   "outputs": [
    {
     "data": {
      "text/plain": [
       "100"
      ]
     },
     "execution_count": 81,
     "metadata": {},
     "output_type": "execute_result"
    }
   ],
   "source": [
    "c"
   ]
  },
  {
   "cell_type": "code",
   "execution_count": 83,
   "id": "0c7a7869",
   "metadata": {},
   "outputs": [
    {
     "name": "stdout",
     "output_type": "stream",
     "text": [
      "<class 'int'>\n"
     ]
    }
   ],
   "source": [
    "print(type(c))"
   ]
  },
  {
   "cell_type": "code",
   "execution_count": 7,
   "id": "a952daf8",
   "metadata": {},
   "outputs": [
    {
     "name": "stdout",
     "output_type": "stream",
     "text": [
      "enter your marks: -1\n",
      "Wrong Input\n"
     ]
    }
   ],
   "source": [
    "marks = int(input('enter your marks: '))\n",
    "if marks >= 0 and marks <35:\n",
    "    print(\"Fail\"),\n",
    "elif marks >35 and marks <= 50:\n",
    "    print(\"Grade C\"),\n",
    "elif marks > 50 and marks <= 75:\n",
    "    print('Grade B')\n",
    "elif  marks > 70 and  marks <= 100:\n",
    "    print('Grade A')\n",
    "else:\n",
    "    print(\"Wrong Input\")\n",
    "        "
   ]
  },
  {
   "cell_type": "code",
   "execution_count": null,
   "id": "b67ecb6d",
   "metadata": {},
   "outputs": [],
   "source": [
    "# loops\n",
    "for\n",
    "while"
   ]
  },
  {
   "cell_type": "code",
   "execution_count": null,
   "id": "0ca119fe",
   "metadata": {},
   "outputs": [],
   "source": [
    "# For Loop"
   ]
  },
  {
   "cell_type": "code",
   "execution_count": 1,
   "id": "7c16e8c5",
   "metadata": {},
   "outputs": [
    {
     "name": "stdout",
     "output_type": "stream",
     "text": [
      "hello\n",
      "hello\n",
      "hello\n",
      "hello\n",
      "hello\n",
      "hello\n"
     ]
    }
   ],
   "source": [
    "for i in range(0,6):\n",
    "    print('hello')"
   ]
  },
  {
   "cell_type": "code",
   "execution_count": 2,
   "id": "1381e100",
   "metadata": {
    "scrolled": true
   },
   "outputs": [
    {
     "name": "stdout",
     "output_type": "stream",
     "text": [
      "2 * 1 = 2\n",
      "2 * 2 = 4\n",
      "2 * 3 = 6\n",
      "2 * 4 = 8\n",
      "2 * 5 = 10\n",
      "2 * 6 = 12\n",
      "2 * 7 = 14\n",
      "2 * 8 = 16\n",
      "2 * 9 = 18\n",
      "2 * 10 = 20\n"
     ]
    }
   ],
   "source": [
    "for i in range(1,11):\n",
    "    print('2','*',i,'=',i*2)"
   ]
  },
  {
   "cell_type": "code",
   "execution_count": null,
   "id": "0d2184de",
   "metadata": {},
   "outputs": [],
   "source": [
    "# Problem Statement (segregate into different data type and list)"
   ]
  },
  {
   "cell_type": "code",
   "execution_count": 7,
   "id": "5dde6570",
   "metadata": {},
   "outputs": [],
   "source": [
    "my_list = [23,'hello','hi',45.9,'bye',12,76,'zero',0,99,[23,'one',12.7],77,11,(6,2,0),11.0]"
   ]
  },
  {
   "cell_type": "code",
   "execution_count": 15,
   "id": "5a03171f",
   "metadata": {},
   "outputs": [
    {
     "name": "stdout",
     "output_type": "stream",
     "text": [
      "[(6, 2, 0)]\n",
      "[23, 12, 76, 0, 99, 77, 11]\n",
      "[45.9, 11.0]\n",
      "['hello', 'hi', 'bye', 'zero']\n",
      "[[23, 'one', 12.7]]\n"
     ]
    }
   ],
   "source": [
    "list_of_tuple = []\n",
    "list_of_integers = []\n",
    "list_of_float = []\n",
    "list_of_strings = []\n",
    "list_of_list = []\n",
    "for i in my_list:\n",
    "    if type(i) == int:\n",
    "        list_of_integers.append(i)\n",
    "    elif type(i) == str:\n",
    "        list_of_strings.append(i)\n",
    "    elif type(i) == float:\n",
    "        list_of_float.append(i)\n",
    "    elif type(i) == tuple:\n",
    "        list_of_tuple.append(i)\n",
    "    elif type(i) == list:\n",
    "        list_of_list.append(i)\n",
    "print(list_of_tuple)\n",
    "print(list_of_integers)\n",
    "print(list_of_float) \n",
    "print(list_of_strings) \n",
    "print(list_of_list)"
   ]
  },
  {
   "cell_type": "markdown",
   "id": "37161acf",
   "metadata": {},
   "source": [
    "Defining a Function"
   ]
  },
  {
   "cell_type": "code",
   "execution_count": 1,
   "id": "6ee05e1c",
   "metadata": {},
   "outputs": [],
   "source": [
    "def myfunction(number1,number2):\n",
    "    a = number1 + number2\n",
    "    return a"
   ]
  },
  {
   "cell_type": "code",
   "execution_count": 2,
   "id": "0aec2396",
   "metadata": {},
   "outputs": [
    {
     "data": {
      "text/plain": [
       "11"
      ]
     },
     "execution_count": 2,
     "metadata": {},
     "output_type": "execute_result"
    }
   ],
   "source": [
    "myfunction(5,6)"
   ]
  },
  {
   "cell_type": "code",
   "execution_count": 41,
   "id": "1dfbf18f",
   "metadata": {},
   "outputs": [],
   "source": [
    "  def gettable1(number):\n",
    "        out = []\n",
    "        for i in range(1,11):\n",
    "            b = number,'*',i,'=',i*number\n",
    "            out.append(b)\n",
    "        return out"
   ]
  },
  {
   "cell_type": "code",
   "execution_count": 42,
   "id": "5477e7d6",
   "metadata": {},
   "outputs": [
    {
     "data": {
      "text/plain": [
       "[(4, '*', 1, '=', 4),\n",
       " (4, '*', 2, '=', 8),\n",
       " (4, '*', 3, '=', 12),\n",
       " (4, '*', 4, '=', 16),\n",
       " (4, '*', 5, '=', 20),\n",
       " (4, '*', 6, '=', 24),\n",
       " (4, '*', 7, '=', 28),\n",
       " (4, '*', 8, '=', 32),\n",
       " (4, '*', 9, '=', 36),\n",
       " (4, '*', 10, '=', 40)]"
      ]
     },
     "execution_count": 42,
     "metadata": {},
     "output_type": "execute_result"
    }
   ],
   "source": [
    "gettable1(4)"
   ]
  },
  {
   "cell_type": "markdown",
   "id": "b5e6a15c",
   "metadata": {},
   "source": [
    "Try and Except functions (to get customized error output)"
   ]
  },
  {
   "cell_type": "code",
   "execution_count": 32,
   "id": "db8d3b6d",
   "metadata": {},
   "outputs": [],
   "source": [
    "def gettable(number):\n",
    "    try:\n",
    "        out = ()\n",
    "        for i in range(1,11):\n",
    "            b = number,'*',i,'=',i*number\n",
    "            out.append(b)\n",
    "        return out\n",
    "    except:\n",
    "        print(\"error in gettable function\")"
   ]
  },
  {
   "cell_type": "code",
   "execution_count": 37,
   "id": "7a5d698e",
   "metadata": {},
   "outputs": [
    {
     "name": "stdout",
     "output_type": "stream",
     "text": [
      "error in gettable function\n"
     ]
    }
   ],
   "source": [
    "gettable(\"77\")"
   ]
  },
  {
   "cell_type": "markdown",
   "id": "12b04f1d",
   "metadata": {},
   "source": [
    "Python for Data Science"
   ]
  },
  {
   "cell_type": "code",
   "execution_count": null,
   "id": "628671a5",
   "metadata": {},
   "outputs": [],
   "source": [
    "# Data Preprocessing - ML ##\n",
    "\n",
    "# Pandas\n",
    "# numpy\n",
    "# Matplotib\n",
    "# seaborn\n",
    "\n",
    "# Machine learning ####\n",
    "\n",
    "# sklearn\n",
    "# statsmodel\n",
    "\n",
    "# deep learning ##\n",
    "\n",
    "# opencv\n",
    "# tensorflow\n",
    "# NLTK\n"
   ]
  },
  {
   "cell_type": "code",
   "execution_count": 43,
   "id": "32d2336a",
   "metadata": {},
   "outputs": [
    {
     "name": "stdout",
     "output_type": "stream",
     "text": [
      "Requirement already satisfied: pandas in c:\\users\\whamd\\anaconda3\\lib\\site-packages (2.0.3)\n",
      "Requirement already satisfied: python-dateutil>=2.8.2 in c:\\users\\whamd\\anaconda3\\lib\\site-packages (from pandas) (2.8.2)\n",
      "Requirement already satisfied: pytz>=2020.1 in c:\\users\\whamd\\anaconda3\\lib\\site-packages (from pandas) (2023.3.post1)\n",
      "Requirement already satisfied: tzdata>=2022.1 in c:\\users\\whamd\\anaconda3\\lib\\site-packages (from pandas) (2023.3)\n",
      "Requirement already satisfied: numpy>=1.21.0 in c:\\users\\whamd\\anaconda3\\lib\\site-packages (from pandas) (1.24.3)\n",
      "Requirement already satisfied: six>=1.5 in c:\\users\\whamd\\anaconda3\\lib\\site-packages (from python-dateutil>=2.8.2->pandas) (1.16.0)\n"
     ]
    }
   ],
   "source": [
    "! pip install pandas"
   ]
  },
  {
   "cell_type": "code",
   "execution_count": 46,
   "id": "4ac1b451",
   "metadata": {},
   "outputs": [
    {
     "name": "stdout",
     "output_type": "stream",
     "text": [
      "Requirement already satisfied: numpy in c:\\users\\whamd\\anaconda3\\lib\\site-packages (1.24.3)\n"
     ]
    }
   ],
   "source": [
    "! pip install numpy"
   ]
  },
  {
   "cell_type": "code",
   "execution_count": 47,
   "id": "7c7f461b",
   "metadata": {},
   "outputs": [
    {
     "name": "stdout",
     "output_type": "stream",
     "text": [
      "Requirement already satisfied: matplotlib in c:\\users\\whamd\\anaconda3\\lib\\site-packages (3.7.2)\n",
      "Requirement already satisfied: contourpy>=1.0.1 in c:\\users\\whamd\\anaconda3\\lib\\site-packages (from matplotlib) (1.0.5)\n",
      "Requirement already satisfied: cycler>=0.10 in c:\\users\\whamd\\anaconda3\\lib\\site-packages (from matplotlib) (0.11.0)\n",
      "Requirement already satisfied: fonttools>=4.22.0 in c:\\users\\whamd\\anaconda3\\lib\\site-packages (from matplotlib) (4.25.0)\n",
      "Requirement already satisfied: kiwisolver>=1.0.1 in c:\\users\\whamd\\anaconda3\\lib\\site-packages (from matplotlib) (1.4.4)\n",
      "Requirement already satisfied: numpy>=1.20 in c:\\users\\whamd\\anaconda3\\lib\\site-packages (from matplotlib) (1.24.3)\n",
      "Requirement already satisfied: packaging>=20.0 in c:\\users\\whamd\\anaconda3\\lib\\site-packages (from matplotlib) (23.1)\n",
      "Requirement already satisfied: pillow>=6.2.0 in c:\\users\\whamd\\anaconda3\\lib\\site-packages (from matplotlib) (10.2.0)\n",
      "Requirement already satisfied: pyparsing<3.1,>=2.3.1 in c:\\users\\whamd\\anaconda3\\lib\\site-packages (from matplotlib) (3.0.9)\n",
      "Requirement already satisfied: python-dateutil>=2.7 in c:\\users\\whamd\\anaconda3\\lib\\site-packages (from matplotlib) (2.8.2)\n",
      "Requirement already satisfied: six>=1.5 in c:\\users\\whamd\\anaconda3\\lib\\site-packages (from python-dateutil>=2.7->matplotlib) (1.16.0)\n"
     ]
    }
   ],
   "source": [
    "! pip install matplotlib"
   ]
  },
  {
   "cell_type": "code",
   "execution_count": 48,
   "id": "ce691651",
   "metadata": {},
   "outputs": [
    {
     "name": "stdout",
     "output_type": "stream",
     "text": [
      "Requirement already satisfied: seaborn in c:\\users\\whamd\\anaconda3\\lib\\site-packages (0.12.2)\n",
      "Requirement already satisfied: numpy!=1.24.0,>=1.17 in c:\\users\\whamd\\anaconda3\\lib\\site-packages (from seaborn) (1.24.3)\n",
      "Requirement already satisfied: pandas>=0.25 in c:\\users\\whamd\\anaconda3\\lib\\site-packages (from seaborn) (2.0.3)\n",
      "Requirement already satisfied: matplotlib!=3.6.1,>=3.1 in c:\\users\\whamd\\anaconda3\\lib\\site-packages (from seaborn) (3.7.2)\n",
      "Requirement already satisfied: contourpy>=1.0.1 in c:\\users\\whamd\\anaconda3\\lib\\site-packages (from matplotlib!=3.6.1,>=3.1->seaborn) (1.0.5)\n",
      "Requirement already satisfied: cycler>=0.10 in c:\\users\\whamd\\anaconda3\\lib\\site-packages (from matplotlib!=3.6.1,>=3.1->seaborn) (0.11.0)\n",
      "Requirement already satisfied: fonttools>=4.22.0 in c:\\users\\whamd\\anaconda3\\lib\\site-packages (from matplotlib!=3.6.1,>=3.1->seaborn) (4.25.0)\n",
      "Requirement already satisfied: kiwisolver>=1.0.1 in c:\\users\\whamd\\anaconda3\\lib\\site-packages (from matplotlib!=3.6.1,>=3.1->seaborn) (1.4.4)\n",
      "Requirement already satisfied: packaging>=20.0 in c:\\users\\whamd\\anaconda3\\lib\\site-packages (from matplotlib!=3.6.1,>=3.1->seaborn) (23.1)\n",
      "Requirement already satisfied: pillow>=6.2.0 in c:\\users\\whamd\\anaconda3\\lib\\site-packages (from matplotlib!=3.6.1,>=3.1->seaborn) (10.2.0)\n",
      "Requirement already satisfied: pyparsing<3.1,>=2.3.1 in c:\\users\\whamd\\anaconda3\\lib\\site-packages (from matplotlib!=3.6.1,>=3.1->seaborn) (3.0.9)\n",
      "Requirement already satisfied: python-dateutil>=2.7 in c:\\users\\whamd\\anaconda3\\lib\\site-packages (from matplotlib!=3.6.1,>=3.1->seaborn) (2.8.2)\n",
      "Requirement already satisfied: pytz>=2020.1 in c:\\users\\whamd\\anaconda3\\lib\\site-packages (from pandas>=0.25->seaborn) (2023.3.post1)\n",
      "Requirement already satisfied: tzdata>=2022.1 in c:\\users\\whamd\\anaconda3\\lib\\site-packages (from pandas>=0.25->seaborn) (2023.3)\n",
      "Requirement already satisfied: six>=1.5 in c:\\users\\whamd\\anaconda3\\lib\\site-packages (from python-dateutil>=2.7->matplotlib!=3.6.1,>=3.1->seaborn) (1.16.0)\n"
     ]
    }
   ],
   "source": [
    "! pip install seaborn"
   ]
  },
  {
   "cell_type": "code",
   "execution_count": null,
   "id": "bb1de976",
   "metadata": {},
   "outputs": [],
   "source": []
  }
 ],
 "metadata": {
  "kernelspec": {
   "display_name": "Python 3 (ipykernel)",
   "language": "python",
   "name": "python3"
  },
  "language_info": {
   "codemirror_mode": {
    "name": "ipython",
    "version": 3
   },
   "file_extension": ".py",
   "mimetype": "text/x-python",
   "name": "python",
   "nbconvert_exporter": "python",
   "pygments_lexer": "ipython3",
   "version": "3.11.5"
  }
 },
 "nbformat": 4,
 "nbformat_minor": 5
}
